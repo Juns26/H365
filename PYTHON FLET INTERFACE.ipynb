{
 "cells": [
  {
   "cell_type": "code",
   "execution_count": 1,
   "id": "8ca90619",
   "metadata": {},
   "outputs": [],
   "source": [
    "import flet as ft\n",
    "\n",
    "\n",
    "def main(page:ft.page):\n",
    "    #main page\n",
    "    page.window_width = 400\n",
    "    page.window_height = 600\n",
    "    page.bgcolor = '#1B3C73'\n",
    "    def addTask(p):\n",
    "    #adding checkboxes\n",
    "        checkBox = ft.Checkbox(value=False)\n",
    "        checkBoxText = ft.Text(value=textField.value,width = 350, bgcolor='white',size=19)\n",
    "        taskRow = ft.Row(controls=[checkBox,checkBoxText],\n",
    "                    alignment=ft.MainAxisAlignment.START)\n",
    "        page.add(taskRow)\n",
    "    #adding textfield\n",
    "    textField = ft.TextField(width=150)\n",
    "    \n",
    "    #adding button\n",
    "    addBtn = ft.FloatingActionButton(icon=ft.icons.ADD,text='Add',on_click=addTask)\n",
    "    \n",
    "    entryRow = ft.Row(controls=[textField,addBtn],alignment=ft.MainAxisAlignment.SPACE_BETWEEN)\n",
    "    \n",
    "    page.add(entryRow)\n",
    "\n",
    "ft.app(target=main)"
   ]
  },
  {
   "cell_type": "code",
   "execution_count": null,
   "id": "6af21e09",
   "metadata": {},
   "outputs": [],
   "source": []
  },
  {
   "cell_type": "code",
   "execution_count": null,
   "id": "8fa05003",
   "metadata": {},
   "outputs": [],
   "source": []
  }
 ],
 "metadata": {
  "kernelspec": {
   "display_name": "Python 3 (ipykernel)",
   "language": "python",
   "name": "python3"
  },
  "language_info": {
   "codemirror_mode": {
    "name": "ipython",
    "version": 3
   },
   "file_extension": ".py",
   "mimetype": "text/x-python",
   "name": "python",
   "nbconvert_exporter": "python",
   "pygments_lexer": "ipython3",
   "version": "3.10.5"
  }
 },
 "nbformat": 4,
 "nbformat_minor": 5
}
